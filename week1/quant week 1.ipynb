{
  "metadata": {
    "kernelspec": {
      "name": "python",
      "display_name": "Python (Pyodide)",
      "language": "python"
    },
    "language_info": {
      "codemirror_mode": {
        "name": "python",
        "version": 3
      },
      "file_extension": ".py",
      "mimetype": "text/x-python",
      "name": "python",
      "nbconvert_exporter": "python",
      "pygments_lexer": "ipython3",
      "version": "3.8"
    }
  },
  "nbformat_minor": 5,
  "nbformat": 4,
  "cells": [
    {
      "id": "d7a16b2e-38b1-4c86-a037-f9f64371ef10",
      "cell_type": "markdown",
      "source": "Import pandas and os ",
      "metadata": {}
    },
    {
      "id": "3fb24157-8fba-4843-8524-c4ef1244dd84",
      "cell_type": "code",
      "source": "import os\nimport pandas as pd",
      "metadata": {
        "trusted": true
      },
      "outputs": [],
      "execution_count": 1
    },
    {
      "id": "4d032759-1988-4fad-a120-5c8a1a86ac83",
      "cell_type": "markdown",
      "source": "For each dataset, i add a column called ticker and then convert them together in a dataframe\nI am using parse_dates to convert date into datetime format\nthen use set_index to set multi index according to order given. Inplace=True is used to modify existing dataframe",
      "metadata": {}
    },
    {
      "id": "b6226e21-5ad2-4bf4-8136-028de4d70117",
      "cell_type": "code",
      "source": "\ntickers = ['aapl', 'msft', 'amzn', 'tsla', 'googl']\ndataframes = []\n\nfor ticker in tickers:\n    file_path =f'{ticker}.csv'\n\n    df = pd.read_csv(file_path, parse_dates=['Date'])\n    df['Ticker'] = ticker\n    dataframes.append(df)\n\nif dataframes:\n    combined_df = pd.concat(dataframes)\n    combined_df.set_index(['Ticker', 'Date'], inplace=True)\n    combined_df.sort_index(inplace=True)\n    print(combined_df)\nelse:\n    print(\"No dataframes to combine.\")\n",
      "metadata": {
        "trusted": true
      },
      "outputs": [
        {
          "name": "stdout",
          "output_type": "stream",
          "text": "                        Open       High        Low      Close    Volume  \\\nTicker Date                                                               \naapl   1984-09-07    0.42388    0.42902    0.41874    0.42388  23220030   \n       1984-09-10    0.42388    0.42516    0.41366    0.42134  18022532   \n       1984-09-11    0.42516    0.43668    0.42516    0.42902  42498199   \n       1984-09-12    0.42902    0.43157    0.41618    0.41618  37125801   \n       1984-09-13    0.43927    0.44052    0.43927    0.43927  57822062   \n...                      ...        ...        ...        ...       ...   \ntsla   2017-11-06  307.00000  307.50000  299.01000  302.78000   6482486   \n       2017-11-07  301.02000  306.50000  300.03000  306.05000   5286320   \n       2017-11-08  305.50000  306.89000  301.30000  304.31000   4725510   \n       2017-11-09  302.50000  304.46000  296.30000  302.99000   5440335   \n       2017-11-10  302.50000  308.36000  301.85000  302.99000   4621912   \n\n                   OpenInt  \nTicker Date                 \naapl   1984-09-07        0  \n       1984-09-10        0  \n       1984-09-11        0  \n       1984-09-12        0  \n       1984-09-13        0  \n...                    ...  \ntsla   2017-11-06        0  \n       2017-11-07        0  \n       2017-11-08        0  \n       2017-11-09        0  \n       2017-11-10        0  \n\n[26691 rows x 6 columns]\n"
        }
      ],
      "execution_count": 2
    },
    {
      "id": "d1c64eae-9641-4e40-b16c-d1df93bf25de",
      "cell_type": "markdown",
      "source": "a function to find all business days between start and end date\nand then reindexing with thise full date\ninterpolation and forward fill used to fill misiing values\nthen added one column date and set it as index",
      "metadata": {}
    },
    {
      "id": "1b84cbb4-5356-4422-a974-8dbe0ead645a",
      "cell_type": "code",
      "source": "def reindex_and_fill(group):\n    # Create full business day date range for that ticker\n    full_dates = pd.date_range(start=group.index.min(), end=group.index.max(), freq='B')\n    # Reindex group to full dates (add missing rows)\n    group = group.reindex(full_dates)\n    # Interpolate missing numeric values linearly\n    group = group.interpolate(method='linear', limit_direction='both')\n    # Forward-fill any remaining missing values\n    group = group.ffill()\n    group['Date']=full_dates\n    group.set_index(['Date'],inplace=True)\n    return group\n",
      "metadata": {
        "trusted": true
      },
      "outputs": [],
      "execution_count": 3
    },
    {
      "id": "48e4a90e-35fe-4bdb-95f8-0e5eef0ad1bf",
      "cell_type": "markdown",
      "source": "for each data in dataset i grouped them by tockers (level 0 index) and sent them to function\ni observed that g.droplevel(0) removes ticker before function but adds it back when dataset comes out of function",
      "metadata": {}
    },
    {
      "id": "8e76029f-9be4-4e98-99cf-be92a49c14ab",
      "cell_type": "code",
      "source": "filled_df = combined_df.groupby(level=0).apply(\n    lambda g: reindex_and_fill(g.droplevel(0))\n)",
      "metadata": {
        "trusted": true
      },
      "outputs": [],
      "execution_count": 4
    },
    {
      "id": "801fe9b7-8c58-447b-b5e7-849af3207cf8",
      "cell_type": "code",
      "source": "print(filled_df)",
      "metadata": {
        "trusted": true
      },
      "outputs": [
        {
          "name": "stdout",
          "output_type": "stream",
          "text": "                        Open       High        Low      Close      Volume  \\\nTicker Date                                                                 \naapl   1984-09-07    0.42388    0.42902    0.41874    0.42388  23220030.0   \n       1984-09-10    0.42388    0.42516    0.41366    0.42134  18022532.0   \n       1984-09-11    0.42516    0.43668    0.42516    0.42902  42498199.0   \n       1984-09-12    0.42902    0.43157    0.41618    0.41618  37125801.0   \n       1984-09-13    0.43927    0.44052    0.43927    0.43927  57822062.0   \n...                      ...        ...        ...        ...         ...   \ntsla   2017-11-06  307.00000  307.50000  299.01000  302.78000   6482486.0   \n       2017-11-07  301.02000  306.50000  300.03000  306.05000   5286320.0   \n       2017-11-08  305.50000  306.89000  301.30000  304.31000   4725510.0   \n       2017-11-09  302.50000  304.46000  296.30000  302.99000   5440335.0   \n       2017-11-10  302.50000  308.36000  301.85000  302.99000   4621912.0   \n\n                   OpenInt  \nTicker Date                 \naapl   1984-09-07      0.0  \n       1984-09-10      0.0  \n       1984-09-11      0.0  \n       1984-09-12      0.0  \n       1984-09-13      0.0  \n...                    ...  \ntsla   2017-11-06      0.0  \n       2017-11-07      0.0  \n       2017-11-08      0.0  \n       2017-11-09      0.0  \n       2017-11-10      0.0  \n\n[27641 rows x 6 columns]\n"
        }
      ],
      "execution_count": 5
    },
    {
      "id": "e0d3771f-13a2-44bf-9535-ee75a974a572",
      "cell_type": "markdown",
      "source": "added column daily return, moving average for 7 days, and 30 days, rolling volatility for 30 day",
      "metadata": {}
    },
    {
      "id": "68848ab1-bb97-441f-9ee3-e23c90112d70",
      "cell_type": "code",
      "source": "\n# Daily return: percent change in 'Close' * 100\nfilled_df['Daily Return'] = (\n    filled_df.groupby(level='Ticker')['Close']\n    .pct_change() * 100\n)\n\n# 7-day moving average of 'Close'\nfilled_df['MA_7'] = (\n    filled_df.groupby(level='Ticker')['Close']\n    .transform(lambda x: x.rolling(window=7, min_periods=1).mean())\n)\n\n# 30-day moving average of 'Close'\nfilled_df['MA_30'] = (\n    filled_df.groupby(level='Ticker')['Close']\n    .transform(lambda x: x.rolling(window=30, min_periods=1).mean())\n)\n\n# 30-day rolling volatility of daily return\nfilled_df['Rolling Volatility (30d)'] = (\n    filled_df.groupby(level='Ticker')['Daily Return']\n    .transform(lambda x: x.rolling(window=30, min_periods=1).std())\n)\n",
      "metadata": {
        "trusted": true
      },
      "outputs": [],
      "execution_count": 6
    },
    {
      "id": "aab03613-37b9-48ed-91e0-305c29224dde",
      "cell_type": "markdown",
      "source": "filter for entry not more than 10 yr\nused timestamp.today for today's date\nand dateoffset of 10 yrs",
      "metadata": {}
    },
    {
      "id": "706d525c-d744-40ec-ab58-6739f80d8e99",
      "cell_type": "code",
      "source": "# Get today's date and subtract 10 years\ncutoff_date = pd.Timestamp.today() - pd.DateOffset(years=10)\n\n# Filter the DataFrame to include only rows after cutoff_date\nfiltered_df = filled_df[filled_df.index.get_level_values('Date') >= cutoff_date]\n",
      "metadata": {
        "trusted": true
      },
      "outputs": [],
      "execution_count": 7
    },
    {
      "id": "b027362c-1187-431e-b66f-cb21ebd678ec",
      "cell_type": "code",
      "source": "print(filtered_df)",
      "metadata": {
        "trusted": true
      },
      "outputs": [
        {
          "name": "stdout",
          "output_type": "stream",
          "text": "                     Open    High     Low   Close      Volume  OpenInt  \\\nTicker Date                                                              \naapl   2015-06-03  124.69  124.96  123.95  124.16  32466240.0      0.0   \n       2015-06-04  123.68  124.61  123.03  123.47  40290158.0      0.0   \n       2015-06-05  123.63  123.79  122.49  122.77  37331747.0      0.0   \n       2015-06-08  123.02  123.32  121.03  121.97  55195489.0      0.0   \n       2015-06-09  120.91  122.22  119.88  121.61  58732198.0      0.0   \n...                   ...     ...     ...     ...         ...      ...   \ntsla   2017-11-06  307.00  307.50  299.01  302.78   6482486.0      0.0   \n       2017-11-07  301.02  306.50  300.03  306.05   5286320.0      0.0   \n       2017-11-08  305.50  306.89  301.30  304.31   4725510.0      0.0   \n       2017-11-09  302.50  304.46  296.30  302.99   5440335.0      0.0   \n       2017-11-10  302.50  308.36  301.85  302.99   4621912.0      0.0   \n\n                   Daily Return        MA_7       MA_30  \\\nTicker Date                                               \naapl   2015-06-03      0.129032  124.645714  123.058500   \n       2015-06-04     -0.555735  124.610000  123.066167   \n       2015-06-05     -0.566939  124.147143  123.031167   \n       2015-06-08     -0.651625  123.607143  122.894833   \n       2015-06-09     -0.295155  123.221429  122.813167   \n...                         ...         ...         ...   \ntsla   2017-11-06     -1.081381  314.527143  339.294800   \n       2017-11-07      1.079992  312.410000  337.988133   \n       2017-11-08     -0.568535  310.157143  336.766133   \n       2017-11-09     -0.433768  306.080000  335.545800   \n       2017-11-10      0.000000  303.495714  334.278133   \n\n                   Rolling Volatility (30d)  \nTicker Date                                  \naapl   2015-06-03                  1.335718  \n       2015-06-04                  1.332071  \n       2015-06-05                  1.333297  \n       2015-06-08                  1.291954  \n       2015-06-09                  1.261945  \n...                                     ...  \ntsla   2017-11-06                  2.216589  \n       2017-11-07                  2.231713  \n       2017-11-08                  2.226119  \n       2017-11-09                  2.226150  \n       2017-11-10                  2.222447  \n\n[3190 rows x 10 columns]\n"
        }
      ],
      "execution_count": 8
    },
    {
      "id": "fc996a92-35cc-4c6c-ada8-b4aaa356ba57",
      "cell_type": "markdown",
      "source": "measured avg daily return of all companys and then printed one with max avg daily return",
      "metadata": {}
    },
    {
      "id": "2ab3ccef-1015-40ce-be9d-f61e6aab732a",
      "cell_type": "code",
      "source": "# Calculate average daily return per ticker\navg_daily_returns = filled_df.groupby(level='Ticker')['Daily Return'].mean()\n\nprint(\"Average Daily Returns per Ticker:\")\nprint(avg_daily_returns)\n\n# Find ticker with max average daily return\nmax_ticker = avg_daily_returns.idxmax()\nmax_return = avg_daily_returns.max()\n\nprint(f\"\\nTicker with max average daily return: {max_ticker} ({max_return:.2f}%)\")\n",
      "metadata": {
        "trusted": true
      },
      "outputs": [
        {
          "name": "stdout",
          "output_type": "stream",
          "text": "Average Daily Returns per Ticker:\nTicker\naapl     0.108540\namzn     0.190864\ngoogl    0.105474\nmsft     0.109890\ntsla     0.200511\nName: Daily Return, dtype: float64\n\nTicker with max average daily return: tsla (0.20%)\n"
        }
      ],
      "execution_count": 9
    },
    {
      "id": "540e8e3b-9ea1-40f3-a697-e8eb9f13462c",
      "cell_type": "markdown",
      "source": "to apply sampling on date, it was removed from index, and then resampled monthly for standard deviation",
      "metadata": {}
    },
    {
      "id": "d2608e8e-a1ab-44ba-9265-298fb1050856",
      "cell_type": "code",
      "source": "# First, reset index to have Date as a column\ndf_reset = filtered_df.reset_index()\n\n# Calculate monthly volatility per ticker\nmonthly_vol = df_reset.groupby('Ticker').resample('ME', on='Date')['Daily Return'].std()\n\nmonthly_vol.name = 'Monthly Volatility'\nmonthly_vol = monthly_vol.reset_index()\n",
      "metadata": {
        "trusted": true
      },
      "outputs": [],
      "execution_count": 10
    },
    {
      "id": "c30d57ef-4117-4dd6-ba91-eeea79ddf79d",
      "cell_type": "markdown",
      "source": "max rolling volatility",
      "metadata": {}
    },
    {
      "id": "8eefcecc-65d9-42b1-b1c3-c9df8b19dbb7",
      "cell_type": "code",
      "source": "max_vol_row = monthly_vol.loc[monthly_vol['Monthly Volatility'].idxmax()]\n\nprint(f\"Most volatile month was {max_vol_row['Date'].strftime('%Y-%m')} for ticker {max_vol_row['Ticker']}\")\nprint(f\"Volatility (std dev of daily returns): {max_vol_row['Monthly Volatility']:.4f}\")\n",
      "metadata": {
        "trusted": true
      },
      "outputs": [
        {
          "name": "stdout",
          "output_type": "stream",
          "text": "Most volatile month was 2016-02 for ticker tsla\nVolatility (std dev of daily returns): 4.4996\n"
        }
      ],
      "execution_count": 11
    }
  ]
}
